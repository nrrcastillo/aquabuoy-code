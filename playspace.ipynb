{
 "cells": [
  {
   "cell_type": "code",
   "execution_count": 9,
   "metadata": {},
   "outputs": [],
   "source": [
    "import numpy as np\n",
    "import scipy as sp\n",
    "import scipy.io as sio\n",
    "import matplotlib.pyplot as plt"
   ]
  },
  {
   "cell_type": "code",
   "execution_count": 4,
   "metadata": {},
   "outputs": [],
   "source": [
    "\n",
    "## Wave period, initially just test for one period\n",
    "\n",
    "T = np.array([\n",
    "    4.24,\n",
    "    4.95,\n",
    "    5.66,\n",
    "    6.36,\n",
    "    7.07,\n",
    "    7.78,\n",
    "    8.49,\n",
    "    9.19,\n",
    "    9.55,\n",
    "    9.90,\n",
    "    10.30,\n",
    "    10.60,\n",
    "    11.30,\n",
    "    12.00,\n",
    "    12.70,\n",
    "    13.40,\n",
    "    14.10,\n",
    "    15.60,\n",
    "    17.00,\n",
    "    18.40,\n",
    "    21.20,\n",
    "    25.50,\n",
    "    31.10,\n",
    "    36.80,\n",
    "    42.40\n",
    "])\n",
    "\n",
    "## Wave exiting force (at wave amplitude 1) for the given wave period\n",
    "F = np.array(\n",
    "    [\n",
    "        56046.8125,\n",
    "        76934.7285,\n",
    "        96051.515,\n",
    "        114007.9815,\n",
    "        131638.402,\n",
    "        149441.6455,\n",
    "        167436.7485,\n",
    "        185264.4675,\n",
    "        193953.564,\n",
    "        202418.608,\n",
    "        210598.472,\n",
    "        218460.2035,\n",
    "        233139.452,\n",
    "        246372.245,\n",
    "        258191.29,\n",
    "        268696.4,\n",
    "        278013.75,\n",
    "        293628.825,\n",
    "        306003.53,\n",
    "        315913.535,\n",
    "        330514.31,\n",
    "        344361.465,\n",
    "        355004.51,\n",
    "        361203.255,\n",
    "        365124.48,\n",
    "    ]\n",
    ")\n",
    "\n",
    "## Corresponding added mass for the given wave period\n",
    "a = np.array(\n",
    "    [\n",
    "        42596.9125,\n",
    "        43226.9125,\n",
    "        44068.4375,\n",
    "        44900.5,\n",
    "        45678.8375,\n",
    "        46427.975,\n",
    "        47166.025,\n",
    "        47882.05,\n",
    "        48222.05,\n",
    "        48547.525,\n",
    "        48858,\n",
    "        49148.5375,\n",
    "        49678.4875,\n",
    "        50146.9125,\n",
    "        50556.4625,\n",
    "        50922.65,\n",
    "        51250.7375,\n",
    "        51819.1,\n",
    "        52303.95,\n",
    "        52731.725,\n",
    "        53457.9875,\n",
    "        54346.475,\n",
    "        55299,\n",
    "        56083.1125,\n",
    "        56752.85,\n",
    "    ],\n",
    ")\n",
    "\n",
    "## Corresponding Hydrodynamic damping for the given wave period\n",
    "b = np.array(\n",
    "    [\n",
    "        5414.696938,\n",
    "        6426.680946,\n",
    "        6710.022235,\n",
    "        6635.40741,\n",
    "        6429.533594,\n",
    "        6176.755365,\n",
    "        5892.03195,\n",
    "        5578.435971,\n",
    "        5414.210689,\n",
    "        5247.947607,\n",
    "        5081.908153,\n",
    "        4918.026313,\n",
    "        4603.036372,\n",
    "        4311.327214,\n",
    "        4045.805829,\n",
    "        3806.430019,\n",
    "        3591.198384,\n",
    "        3223.388817,\n",
    "        2922.971759,\n",
    "        2674.178076,\n",
    "        2286.788872,\n",
    "        1881.529145,\n",
    "        1524.553823,\n",
    "        1282.811533,\n",
    "        1107.900985,\n",
    "    ],\n",
    ")\n"
   ]
  },
  {
   "cell_type": "code",
   "execution_count": 5,
   "metadata": {},
   "outputs": [
    {
     "ename": "SyntaxError",
     "evalue": "invalid syntax (2556738553.py, line 2)",
     "output_type": "error",
     "traceback": [
      "\u001b[0;36m  Cell \u001b[0;32mIn[5], line 2\u001b[0;36m\u001b[0m\n\u001b[0;31m    TODO: Function to interpolate F(1 / fi)\u001b[0m\n\u001b[0m                   ^\u001b[0m\n\u001b[0;31mSyntaxError\u001b[0m\u001b[0;31m:\u001b[0m invalid syntax\n"
     ]
    }
   ],
   "source": [
    "# sp.interpolate.interp1d(T, F, kind=\"cubic\")\n",
    "# TODO: Function to interpolate F(1 / fi) "
   ]
  },
  {
   "cell_type": "markdown",
   "metadata": {},
   "source": [
    "Wave exciting force for irregular waves"
   ]
  },
  {
   "cell_type": "code",
   "execution_count": 7,
   "metadata": {},
   "outputs": [],
   "source": [
    "delta_f = 0.01 # note: i think you get this from identity df = 1/T (T is wave period)\n",
    "N = 40 # i think this is standard number\n",
    "\n",
    "Tz = 8.5 # average wave period, placeholder\n",
    "Hs = 1.5 # significant wave height, placeholder\n",
    "Tp = 1.4*Tz # peak wave period, placeholder\n",
    "fp = 1/Tp # peak wave frequency, placeholder\n",
    "\n",
    "A = (5 / 16) * (Hs ** 2) * (fp ** 4)\n",
    "B = (5 / 4) * (fp ** 4)\n",
    "\n",
    "# generate array with 40 terms of random 0 and 1\n",
    "def generate_fi(N: int) -> np.array:\n",
    "    \"\"\"\n",
    "    test1 = np.random.rand(N) / 2\n",
    "    test2 = np.arange(N)\n",
    "    test3 = (test1 + test2) * delta_f\n",
    "    \"\"\"\n",
    "    return (0.5*np.random.rand(N) + np.arange(N)) * delta_f\n",
    "\n",
    "def generate_Ti(fi: np.array) -> np.array:\n",
    "    return 1 / fi\n",
    "\n",
    "def generate_Sf(fi: np.array) -> np.array:\n",
    "    return (A / (fi ** 5)) * np.exp(-B / (fi ** 4))\n",
    "\n",
    "def generate_ai(Sf: np.array) -> np.array: # amplitudes\n",
    "    return (2 * Sf * delta_f) ** 0.5\n",
    "\n",
    "def generate_phi(N: int) -> np.array: # random phase, multiplying 2pi at the Fw(t) calculation\n",
    "    return np.random.rand(N)\n",
    "\n",
    "def fw_t(t: float, ai: np.array, fi: np.array, phi: np.array) -> float: # note that t is from the time array\n",
    "    return np.sum(ai * np.sin(2*np.pi * (fi * t + phi)))"
   ]
  },
  {
   "cell_type": "markdown",
   "metadata": {},
   "source": [
    "Interpolation Functions"
   ]
  },
  {
   "cell_type": "code",
   "execution_count": 12,
   "metadata": {},
   "outputs": [
    {
     "data": {
      "text/plain": [
       "[<matplotlib.lines.Line2D at 0x1644a6290>]"
      ]
     },
     "execution_count": 12,
     "metadata": {},
     "output_type": "execute_result"
    },
    {
     "data": {
      "image/png": "[encoded data removed]",
      "text/plain": [
       "<Figure size 640x480 with 1 Axes>"
      ]
     },
     "metadata": {},
     "output_type": "display_data"
    }
   ],
   "source": [
    "# T_i in the matlab code refer to specific time points, not the wave period\n",
    "# TODO: What is length of T_i? (Also what is length of T_vec in the matlab code?)\n",
    "F_interp = sp.interpolate.interp1d(T, F, kind=\"cubic\")\n",
    "a_interp = sp.interpolate.interp1d(T, a, kind=\"cubic\")\n",
    "b_interp = sp.interpolate.interp1d(T, b, kind=\"cubic\")\n",
    "\n",
    "#plt.plot(T, F_interp(T))\n",
    "plt.plot(T, a_interp(T), color=\"blue\")\n",
    "plt.plot(T, b_interp(T), color=\"red\")"
   ]
  },
  {
   "cell_type": "code",
   "execution_count": null,
   "metadata": {},
   "outputs": [],
   "source": [
    "def couloumb_damping(Ffric: float, v1: float, v2: float) -> float: \n",
    "    \"\"\"\n",
    "    Coulomb damping force for nonlinear damping\n",
    "\n",
    "    Args:\n",
    "        Ffric (float): Coulomb friction force\n",
    "        v1 (float): velocity of body 1\n",
    "        v2 (float): velocity of body 2\n",
    "\n",
    "    Returns:\n",
    "        float: Coulomb damping force\n",
    "    \"\"\"\n",
    "    return Ffric * np.tanh(100 * (v1 - v2))"
   ]
  },
  {
   "cell_type": "code",
   "execution_count": 6,
   "metadata": {},
   "outputs": [],
   "source": [
    "def retardation(b_interp: np.array, omega_interp: np.array, t: float):"
   ]
  },
  {
   "cell_type": "code",
   "execution_count": null,
   "metadata": {},
   "outputs": [],
   "source": [
    "sp.integrate.solve_ivp(\n",
    "    func, \n",
    "    tspan=[t0, tf], \n",
    "    y0=np.array([0, 0, 0, 0]), \n",
    "    method='',\n",
    "    t_eval=[],\n",
    "    rtol,\n",
    "    atol,\n",
    "    jac_sparsity= [[]]\n",
    "    )\n",
    "\n",
    "\"\"\"\n",
    "t_eval: which intermediate solutions to store. if None, solver selects points\n",
    "events: (List[Callable[[],]]) events to track\n",
    "vectorised: (bool) TODO: dont fully understand this\n",
    "args: (tuple) addditional arguments to pass to func. if so, then jacobian and events must also have same param signature\n",
    "rtol: relative tolerance\n",
    "atol: absolute tolerance\n",
    "jac_sparsity: sparsity structure defined, refer to AQBA.m \n",
    "\"\"\""
   ]
  }
 ],
 "metadata": {
  "kernelspec": {
   "display_name": "aquabuoy",
   "language": "python",
   "name": "python3"
  },
  "language_info": {
   "codemirror_mode": {
    "name": "ipython",
    "version": 3
   },
   "file_extension": ".py",
   "mimetype": "text/x-python",
   "name": "python",
   "nbconvert_exporter": "python",
   "pygments_lexer": "ipython3",
   "version": "3.11.4"
  },
  "orig_nbformat": 4
 },
 "nbformat": 4,
 "nbformat_minor": 2
}
